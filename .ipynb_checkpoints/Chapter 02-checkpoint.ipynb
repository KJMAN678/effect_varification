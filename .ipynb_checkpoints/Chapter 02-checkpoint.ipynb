{
 "cells": [
  {
   "cell_type": "markdown",
   "metadata": {},
   "source": [
    "### 2章 介入効果を測るための回帰分析 "
   ]
  },
  {
   "cell_type": "code",
   "execution_count": 1,
   "metadata": {},
   "outputs": [],
   "source": [
    "import pandas as pd\n",
    "from sklearn.linear_model import LinearRegression\n",
    "import statsmodels.formula.api as sm"
   ]
  },
  {
   "cell_type": "code",
   "execution_count": 2,
   "metadata": {},
   "outputs": [
    {
     "data": {
      "text/html": [
       "<div>\n",
       "<style scoped>\n",
       "    .dataframe tbody tr th:only-of-type {\n",
       "        vertical-align: middle;\n",
       "    }\n",
       "\n",
       "    .dataframe tbody tr th {\n",
       "        vertical-align: top;\n",
       "    }\n",
       "\n",
       "    .dataframe thead th {\n",
       "        text-align: right;\n",
       "    }\n",
       "</style>\n",
       "<table border=\"1\" class=\"dataframe\">\n",
       "  <thead>\n",
       "    <tr style=\"text-align: right;\">\n",
       "      <th></th>\n",
       "      <th>recency</th>\n",
       "      <th>history_segment</th>\n",
       "      <th>history</th>\n",
       "      <th>mens</th>\n",
       "      <th>womens</th>\n",
       "      <th>zip_code</th>\n",
       "      <th>newbie</th>\n",
       "      <th>channel</th>\n",
       "      <th>segment</th>\n",
       "      <th>visit</th>\n",
       "      <th>conversion</th>\n",
       "      <th>spend</th>\n",
       "      <th>treatment</th>\n",
       "    </tr>\n",
       "  </thead>\n",
       "  <tbody>\n",
       "    <tr>\n",
       "      <th>0</th>\n",
       "      <td>9</td>\n",
       "      <td>5) $500 - $750</td>\n",
       "      <td>675.83</td>\n",
       "      <td>1</td>\n",
       "      <td>0</td>\n",
       "      <td>Rural</td>\n",
       "      <td>1</td>\n",
       "      <td>Web</td>\n",
       "      <td>Mens E-Mail</td>\n",
       "      <td>0</td>\n",
       "      <td>0</td>\n",
       "      <td>0.0</td>\n",
       "      <td>1</td>\n",
       "    </tr>\n",
       "    <tr>\n",
       "      <th>1</th>\n",
       "      <td>9</td>\n",
       "      <td>5) $500 - $750</td>\n",
       "      <td>675.07</td>\n",
       "      <td>1</td>\n",
       "      <td>1</td>\n",
       "      <td>Rural</td>\n",
       "      <td>1</td>\n",
       "      <td>Phone</td>\n",
       "      <td>Mens E-Mail</td>\n",
       "      <td>0</td>\n",
       "      <td>0</td>\n",
       "      <td>0.0</td>\n",
       "      <td>1</td>\n",
       "    </tr>\n",
       "    <tr>\n",
       "      <th>2</th>\n",
       "      <td>2</td>\n",
       "      <td>2) $100 - $200</td>\n",
       "      <td>101.64</td>\n",
       "      <td>0</td>\n",
       "      <td>1</td>\n",
       "      <td>Urban</td>\n",
       "      <td>0</td>\n",
       "      <td>Web</td>\n",
       "      <td>Mens E-Mail</td>\n",
       "      <td>1</td>\n",
       "      <td>0</td>\n",
       "      <td>0.0</td>\n",
       "      <td>1</td>\n",
       "    </tr>\n",
       "  </tbody>\n",
       "</table>\n",
       "</div>"
      ],
      "text/plain": [
       "   recency history_segment  history  mens  womens zip_code  newbie channel  \\\n",
       "0        9  5) $500 - $750   675.83     1       0    Rural       1     Web   \n",
       "1        9  5) $500 - $750   675.07     1       1    Rural       1   Phone   \n",
       "2        2  2) $100 - $200   101.64     0       1    Urban       0     Web   \n",
       "\n",
       "       segment  visit  conversion  spend  treatment  \n",
       "0  Mens E-Mail      0           0    0.0          1  \n",
       "1  Mens E-Mail      0           0    0.0          1  \n",
       "2  Mens E-Mail      1           0    0.0          1  "
      ]
     },
     "execution_count": 2,
     "metadata": {},
     "output_type": "execute_result"
    }
   ],
   "source": [
    "# 1章で作成したbiased_data.csvを読込む\n",
    "biased_data = pd.read_csv('biased_data.csv')\n",
    "biased_data.head(3)"
   ]
  },
  {
   "cell_type": "code",
   "execution_count": 3,
   "metadata": {},
   "outputs": [
    {
     "data": {
      "text/plain": [
       "LinearRegression()"
      ]
     },
     "execution_count": 3,
     "metadata": {},
     "output_type": "execute_result"
    }
   ],
   "source": [
    "# 線形回帰\n",
    "lr = LinearRegression()\n",
    "x, y = biased_data[[\"history\", \"treatment\"]], biased_data[\"spend\"]\n",
    "lr.fit(x, y)\n",
    "# scikit-learn には summary出力はない"
   ]
  },
  {
   "cell_type": "code",
   "execution_count": 4,
   "metadata": {},
   "outputs": [
    {
     "data": {
      "text/html": [
       "<table class=\"simpletable\">\n",
       "<caption>OLS Regression Results</caption>\n",
       "<tr>\n",
       "  <th>Dep. Variable:</th>          <td>spend</td>      <th>  R-squared:         </th>  <td>   0.001</td>  \n",
       "</tr>\n",
       "<tr>\n",
       "  <th>Model:</th>                   <td>OLS</td>       <th>  Adj. R-squared:    </th>  <td>   0.001</td>  \n",
       "</tr>\n",
       "<tr>\n",
       "  <th>Method:</th>             <td>Least Squares</td>  <th>  F-statistic:       </th>  <td>   20.52</td>  \n",
       "</tr>\n",
       "<tr>\n",
       "  <th>Date:</th>             <td>Sun, 20 Sep 2020</td> <th>  Prob (F-statistic):</th>  <td>1.24e-09</td>  \n",
       "</tr>\n",
       "<tr>\n",
       "  <th>Time:</th>                 <td>14:12:44</td>     <th>  Log-Likelihood:    </th> <td>-1.3391e+05</td>\n",
       "</tr>\n",
       "<tr>\n",
       "  <th>No. Observations:</th>      <td> 31925</td>      <th>  AIC:               </th>  <td>2.678e+05</td> \n",
       "</tr>\n",
       "<tr>\n",
       "  <th>Df Residuals:</th>          <td> 31922</td>      <th>  BIC:               </th>  <td>2.679e+05</td> \n",
       "</tr>\n",
       "<tr>\n",
       "  <th>Df Model:</th>              <td>     2</td>      <th>                     </th>      <td> </td>     \n",
       "</tr>\n",
       "<tr>\n",
       "  <th>Covariance Type:</th>      <td>nonrobust</td>    <th>                     </th>      <td> </td>     \n",
       "</tr>\n",
       "</table>\n",
       "<table class=\"simpletable\">\n",
       "<tr>\n",
       "      <td></td>         <th>coef</th>     <th>std err</th>      <th>t</th>      <th>P>|t|</th>  <th>[0.025</th>    <th>0.975]</th>  \n",
       "</tr>\n",
       "<tr>\n",
       "  <th>Intercept</th> <td>    0.3790</td> <td>    0.150</td> <td>    2.519</td> <td> 0.012</td> <td>    0.084</td> <td>    0.674</td>\n",
       "</tr>\n",
       "<tr>\n",
       "  <th>treatment</th> <td>    0.8637</td> <td>    0.182</td> <td>    4.750</td> <td> 0.000</td> <td>    0.507</td> <td>    1.220</td>\n",
       "</tr>\n",
       "<tr>\n",
       "  <th>history</th>   <td>    0.0013</td> <td>    0.000</td> <td>    3.622</td> <td> 0.000</td> <td>    0.001</td> <td>    0.002</td>\n",
       "</tr>\n",
       "</table>\n",
       "<table class=\"simpletable\">\n",
       "<tr>\n",
       "  <th>Omnibus:</th>       <td>69503.290</td> <th>  Durbin-Watson:     </th>   <td>   2.001</td>   \n",
       "</tr>\n",
       "<tr>\n",
       "  <th>Prob(Omnibus):</th>  <td> 0.000</td>   <th>  Jarque-Bera (JB):  </th> <td>301492932.516</td>\n",
       "</tr>\n",
       "<tr>\n",
       "  <th>Skew:</th>           <td>19.981</td>   <th>  Prob(JB):          </th>   <td>    0.00</td>   \n",
       "</tr>\n",
       "<tr>\n",
       "  <th>Kurtosis:</th>       <td>477.399</td>  <th>  Cond. No.          </th>   <td>    832.</td>   \n",
       "</tr>\n",
       "</table><br/><br/>Warnings:<br/>[1] Standard Errors assume that the covariance matrix of the errors is correctly specified."
      ],
      "text/plain": [
       "<class 'statsmodels.iolib.summary.Summary'>\n",
       "\"\"\"\n",
       "                            OLS Regression Results                            \n",
       "==============================================================================\n",
       "Dep. Variable:                  spend   R-squared:                       0.001\n",
       "Model:                            OLS   Adj. R-squared:                  0.001\n",
       "Method:                 Least Squares   F-statistic:                     20.52\n",
       "Date:                Sun, 20 Sep 2020   Prob (F-statistic):           1.24e-09\n",
       "Time:                        14:12:44   Log-Likelihood:            -1.3391e+05\n",
       "No. Observations:               31925   AIC:                         2.678e+05\n",
       "Df Residuals:                   31922   BIC:                         2.679e+05\n",
       "Df Model:                           2                                         \n",
       "Covariance Type:            nonrobust                                         \n",
       "==============================================================================\n",
       "                 coef    std err          t      P>|t|      [0.025      0.975]\n",
       "------------------------------------------------------------------------------\n",
       "Intercept      0.3790      0.150      2.519      0.012       0.084       0.674\n",
       "treatment      0.8637      0.182      4.750      0.000       0.507       1.220\n",
       "history        0.0013      0.000      3.622      0.000       0.001       0.002\n",
       "==============================================================================\n",
       "Omnibus:                    69503.290   Durbin-Watson:                   2.001\n",
       "Prob(Omnibus):                  0.000   Jarque-Bera (JB):        301492932.516\n",
       "Skew:                          19.981   Prob(JB):                         0.00\n",
       "Kurtosis:                     477.399   Cond. No.                         832.\n",
       "==============================================================================\n",
       "\n",
       "Warnings:\n",
       "[1] Standard Errors assume that the covariance matrix of the errors is correctly specified.\n",
       "\"\"\""
      ]
     },
     "execution_count": 4,
     "metadata": {},
     "output_type": "execute_result"
    }
   ],
   "source": [
    "# summaryの見方参考サイト https://tanuhack.com/statsmodels-multiple-lra/\n",
    "model = sm.ols(formula='spend ~ treatment + history', data=biased_data)\n",
    "biased_fitted = model.fit()\n",
    "biased_fitted.summary()"
   ]
  },
  {
   "cell_type": "code",
   "execution_count": 5,
   "metadata": {},
   "outputs": [
    {
     "data": {
      "text/html": [
       "<table class=\"simpletable\">\n",
       "<tr>\n",
       "      <td></td>         <th>coef</th>     <th>std err</th>      <th>t</th>      <th>P>|t|</th>  <th>[0.025</th>    <th>0.975]</th>  \n",
       "</tr>\n",
       "<tr>\n",
       "  <th>Intercept</th> <td>    0.3790</td> <td>    0.150</td> <td>    2.519</td> <td> 0.012</td> <td>    0.084</td> <td>    0.674</td>\n",
       "</tr>\n",
       "<tr>\n",
       "  <th>treatment</th> <td>    0.8637</td> <td>    0.182</td> <td>    4.750</td> <td> 0.000</td> <td>    0.507</td> <td>    1.220</td>\n",
       "</tr>\n",
       "<tr>\n",
       "  <th>history</th>   <td>    0.0013</td> <td>    0.000</td> <td>    3.622</td> <td> 0.000</td> <td>    0.001</td> <td>    0.002</td>\n",
       "</tr>\n",
       "</table>"
      ],
      "text/plain": [
       "<class 'statsmodels.iolib.table.SimpleTable'>"
      ]
     },
     "execution_count": 5,
     "metadata": {},
     "output_type": "execute_result"
    }
   ],
   "source": [
    "# coefのみ出力\n",
    "biased_fitted.summary().tables[1]"
   ]
  },
  {
   "cell_type": "code",
   "execution_count": 6,
   "metadata": {},
   "outputs": [
    {
     "data": {
      "text/html": [
       "<div>\n",
       "<style scoped>\n",
       "    .dataframe tbody tr th:only-of-type {\n",
       "        vertical-align: middle;\n",
       "    }\n",
       "\n",
       "    .dataframe tbody tr th {\n",
       "        vertical-align: top;\n",
       "    }\n",
       "\n",
       "    .dataframe thead th {\n",
       "        text-align: right;\n",
       "    }\n",
       "</style>\n",
       "<table border=\"1\" class=\"dataframe\">\n",
       "  <thead>\n",
       "    <tr style=\"text-align: right;\">\n",
       "      <th></th>\n",
       "      <th>coef</th>\n",
       "      <th>std err</th>\n",
       "      <th>t</th>\n",
       "      <th>P&gt;|t|</th>\n",
       "      <th>[0.025</th>\n",
       "      <th>0.975]</th>\n",
       "    </tr>\n",
       "  </thead>\n",
       "  <tbody>\n",
       "    <tr>\n",
       "      <th>Intercept</th>\n",
       "      <td>0.3790</td>\n",
       "      <td>0.150</td>\n",
       "      <td>2.519</td>\n",
       "      <td>0.012</td>\n",
       "      <td>0.084</td>\n",
       "      <td>0.674</td>\n",
       "    </tr>\n",
       "    <tr>\n",
       "      <th>treatment</th>\n",
       "      <td>0.8637</td>\n",
       "      <td>0.182</td>\n",
       "      <td>4.750</td>\n",
       "      <td>0.000</td>\n",
       "      <td>0.507</td>\n",
       "      <td>1.220</td>\n",
       "    </tr>\n",
       "    <tr>\n",
       "      <th>history</th>\n",
       "      <td>0.0013</td>\n",
       "      <td>0.000</td>\n",
       "      <td>3.622</td>\n",
       "      <td>0.000</td>\n",
       "      <td>0.001</td>\n",
       "      <td>0.002</td>\n",
       "    </tr>\n",
       "  </tbody>\n",
       "</table>\n",
       "</div>"
      ],
      "text/plain": [
       "             coef  std err      t  P>|t|  [0.025  0.975]\n",
       "Intercept  0.3790    0.150  2.519  0.012   0.084   0.674\n",
       "treatment  0.8637    0.182  4.750  0.000   0.507   1.220\n",
       "history    0.0013    0.000  3.622  0.000   0.001   0.002"
      ]
     },
     "execution_count": 6,
     "metadata": {},
     "output_type": "execute_result"
    }
   ],
   "source": [
    "# （参考）DataFrame型への変換\n",
    "pd.read_html(biased_fitted.summary().tables[1].as_html(), header=0, index_col=0)[0]"
   ]
  },
  {
   "cell_type": "markdown",
   "metadata": {},
   "source": [
    "### RCTデータでの回帰"
   ]
  },
  {
   "cell_type": "code",
   "execution_count": 7,
   "metadata": {},
   "outputs": [
    {
     "data": {
      "text/html": [
       "<div>\n",
       "<style scoped>\n",
       "    .dataframe tbody tr th:only-of-type {\n",
       "        vertical-align: middle;\n",
       "    }\n",
       "\n",
       "    .dataframe tbody tr th {\n",
       "        vertical-align: top;\n",
       "    }\n",
       "\n",
       "    .dataframe thead th {\n",
       "        text-align: right;\n",
       "    }\n",
       "</style>\n",
       "<table border=\"1\" class=\"dataframe\">\n",
       "  <thead>\n",
       "    <tr style=\"text-align: right;\">\n",
       "      <th></th>\n",
       "      <th>recency</th>\n",
       "      <th>history_segment</th>\n",
       "      <th>history</th>\n",
       "      <th>mens</th>\n",
       "      <th>womens</th>\n",
       "      <th>zip_code</th>\n",
       "      <th>newbie</th>\n",
       "      <th>channel</th>\n",
       "      <th>segment</th>\n",
       "      <th>visit</th>\n",
       "      <th>conversion</th>\n",
       "      <th>spend</th>\n",
       "      <th>treatment</th>\n",
       "    </tr>\n",
       "  </thead>\n",
       "  <tbody>\n",
       "    <tr>\n",
       "      <th>0</th>\n",
       "      <td>6</td>\n",
       "      <td>3) $200 - $350</td>\n",
       "      <td>329.08</td>\n",
       "      <td>1</td>\n",
       "      <td>1</td>\n",
       "      <td>Rural</td>\n",
       "      <td>1</td>\n",
       "      <td>Web</td>\n",
       "      <td>No E-Mail</td>\n",
       "      <td>0</td>\n",
       "      <td>0</td>\n",
       "      <td>0.0</td>\n",
       "      <td>0</td>\n",
       "    </tr>\n",
       "    <tr>\n",
       "      <th>1</th>\n",
       "      <td>9</td>\n",
       "      <td>5) $500 - $750</td>\n",
       "      <td>675.83</td>\n",
       "      <td>1</td>\n",
       "      <td>0</td>\n",
       "      <td>Rural</td>\n",
       "      <td>1</td>\n",
       "      <td>Web</td>\n",
       "      <td>Mens E-Mail</td>\n",
       "      <td>0</td>\n",
       "      <td>0</td>\n",
       "      <td>0.0</td>\n",
       "      <td>1</td>\n",
       "    </tr>\n",
       "    <tr>\n",
       "      <th>2</th>\n",
       "      <td>9</td>\n",
       "      <td>5) $500 - $750</td>\n",
       "      <td>675.07</td>\n",
       "      <td>1</td>\n",
       "      <td>1</td>\n",
       "      <td>Rural</td>\n",
       "      <td>1</td>\n",
       "      <td>Phone</td>\n",
       "      <td>Mens E-Mail</td>\n",
       "      <td>0</td>\n",
       "      <td>0</td>\n",
       "      <td>0.0</td>\n",
       "      <td>1</td>\n",
       "    </tr>\n",
       "  </tbody>\n",
       "</table>\n",
       "</div>"
      ],
      "text/plain": [
       "   recency history_segment  history  mens  womens zip_code  newbie channel  \\\n",
       "0        6  3) $200 - $350   329.08     1       1    Rural       1     Web   \n",
       "1        9  5) $500 - $750   675.83     1       0    Rural       1     Web   \n",
       "2        9  5) $500 - $750   675.07     1       1    Rural       1   Phone   \n",
       "\n",
       "       segment  visit  conversion  spend  treatment  \n",
       "0    No E-Mail      0           0    0.0          0  \n",
       "1  Mens E-Mail      0           0    0.0          1  \n",
       "2  Mens E-Mail      0           0    0.0          1  "
      ]
     },
     "execution_count": 7,
     "metadata": {},
     "output_type": "execute_result"
    }
   ],
   "source": [
    "# 1章で作成したmale_data.csvを読込む\n",
    "male_data = pd.read_csv('male_data.csv')\n",
    "male_data.head(3)"
   ]
  },
  {
   "cell_type": "code",
   "execution_count": 8,
   "metadata": {},
   "outputs": [],
   "source": [
    "model = sm.ols(formula='spend ~ treatment + history', data=male_data)\n",
    "male_fitted = model.fit()"
   ]
  },
  {
   "cell_type": "code",
   "execution_count": 9,
   "metadata": {},
   "outputs": [
    {
     "name": "stdout",
     "output_type": "stream",
     "text": [
      "バイアスなしデータの回帰\n"
     ]
    },
    {
     "data": {
      "text/html": [
       "<table class=\"simpletable\">\n",
       "<tr>\n",
       "      <td></td>         <th>coef</th>     <th>std err</th>      <th>t</th>      <th>P>|t|</th>  <th>[0.025</th>    <th>0.975]</th>  \n",
       "</tr>\n",
       "<tr>\n",
       "  <th>Intercept</th> <td>    0.3596</td> <td>    0.123</td> <td>    2.917</td> <td> 0.004</td> <td>    0.118</td> <td>    0.601</td>\n",
       "</tr>\n",
       "<tr>\n",
       "  <th>treatment</th> <td>    0.7674</td> <td>    0.145</td> <td>    5.285</td> <td> 0.000</td> <td>    0.483</td> <td>    1.052</td>\n",
       "</tr>\n",
       "<tr>\n",
       "  <th>history</th>   <td>    0.0012</td> <td>    0.000</td> <td>    4.301</td> <td> 0.000</td> <td>    0.001</td> <td>    0.002</td>\n",
       "</tr>\n",
       "</table>"
      ],
      "text/plain": [
       "<class 'statsmodels.iolib.table.SimpleTable'>"
      ]
     },
     "metadata": {},
     "output_type": "display_data"
    },
    {
     "name": "stdout",
     "output_type": "stream",
     "text": [
      "\n",
      "【比較】バイアスのあるデータの回帰\n"
     ]
    },
    {
     "data": {
      "text/html": [
       "<table class=\"simpletable\">\n",
       "<tr>\n",
       "      <td></td>         <th>coef</th>     <th>std err</th>      <th>t</th>      <th>P>|t|</th>  <th>[0.025</th>    <th>0.975]</th>  \n",
       "</tr>\n",
       "<tr>\n",
       "  <th>Intercept</th> <td>    0.3790</td> <td>    0.150</td> <td>    2.519</td> <td> 0.012</td> <td>    0.084</td> <td>    0.674</td>\n",
       "</tr>\n",
       "<tr>\n",
       "  <th>treatment</th> <td>    0.8637</td> <td>    0.182</td> <td>    4.750</td> <td> 0.000</td> <td>    0.507</td> <td>    1.220</td>\n",
       "</tr>\n",
       "<tr>\n",
       "  <th>history</th>   <td>    0.0013</td> <td>    0.000</td> <td>    3.622</td> <td> 0.000</td> <td>    0.001</td> <td>    0.002</td>\n",
       "</tr>\n",
       "</table>"
      ],
      "text/plain": [
       "<class 'statsmodels.iolib.table.SimpleTable'>"
      ]
     },
     "metadata": {},
     "output_type": "display_data"
    }
   ],
   "source": [
    "print(\"バイアスなしデータの回帰\")\n",
    "display(male_fitted.summary().tables[1])\n",
    "\n",
    "print(\"\\n【比較】バイアスのあるデータの回帰\")\n",
    "display(biased_fitted.summary().tables[1])"
   ]
  },
  {
   "cell_type": "markdown",
   "metadata": {},
   "source": [
    "### 共変量 X として recency、channel、history を加える"
   ]
  },
  {
   "cell_type": "code",
   "execution_count": 10,
   "metadata": {},
   "outputs": [],
   "source": [
    "model = sm.ols(formula='spend ~ treatment + recency + channel + history', data=biased_data)\n",
    "add_cov_biased_fitted = model.fit()"
   ]
  },
  {
   "cell_type": "code",
   "execution_count": 11,
   "metadata": {},
   "outputs": [
    {
     "name": "stdout",
     "output_type": "stream",
     "text": [
      "バイアスなしデータの回帰\n"
     ]
    },
    {
     "data": {
      "text/html": [
       "<table class=\"simpletable\">\n",
       "<tr>\n",
       "      <td></td>         <th>coef</th>     <th>std err</th>      <th>t</th>      <th>P>|t|</th>  <th>[0.025</th>    <th>0.975]</th>  \n",
       "</tr>\n",
       "<tr>\n",
       "  <th>Intercept</th> <td>    0.3596</td> <td>    0.123</td> <td>    2.917</td> <td> 0.004</td> <td>    0.118</td> <td>    0.601</td>\n",
       "</tr>\n",
       "<tr>\n",
       "  <th>treatment</th> <td>    0.7674</td> <td>    0.145</td> <td>    5.285</td> <td> 0.000</td> <td>    0.483</td> <td>    1.052</td>\n",
       "</tr>\n",
       "<tr>\n",
       "  <th>history</th>   <td>    0.0012</td> <td>    0.000</td> <td>    4.301</td> <td> 0.000</td> <td>    0.001</td> <td>    0.002</td>\n",
       "</tr>\n",
       "</table>"
      ],
      "text/plain": [
       "<class 'statsmodels.iolib.table.SimpleTable'>"
      ]
     },
     "metadata": {},
     "output_type": "display_data"
    },
    {
     "name": "stdout",
     "output_type": "stream",
     "text": [
      "\n",
      "共変量を追加した、バイアスのあるデータの回帰\n"
     ]
    },
    {
     "data": {
      "text/html": [
       "<table class=\"simpletable\">\n",
       "<tr>\n",
       "          <td></td>            <th>coef</th>     <th>std err</th>      <th>t</th>      <th>P>|t|</th>  <th>[0.025</th>    <th>0.975]</th>  \n",
       "</tr>\n",
       "<tr>\n",
       "  <th>Intercept</th>        <td>    0.4991</td> <td>    0.393</td> <td>    1.269</td> <td> 0.204</td> <td>   -0.272</td> <td>    1.270</td>\n",
       "</tr>\n",
       "<tr>\n",
       "  <th>channel[T.Phone]</th> <td>    0.0359</td> <td>    0.316</td> <td>    0.114</td> <td> 0.910</td> <td>   -0.583</td> <td>    0.654</td>\n",
       "</tr>\n",
       "<tr>\n",
       "  <th>channel[T.Web]</th>   <td>    0.2967</td> <td>    0.315</td> <td>    0.942</td> <td> 0.346</td> <td>   -0.320</td> <td>    0.914</td>\n",
       "</tr>\n",
       "<tr>\n",
       "  <th>treatment</th>        <td>    0.8099</td> <td>    0.186</td> <td>    4.353</td> <td> 0.000</td> <td>    0.445</td> <td>    1.175</td>\n",
       "</tr>\n",
       "<tr>\n",
       "  <th>recency</th>          <td>   -0.0399</td> <td>    0.027</td> <td>   -1.476</td> <td> 0.140</td> <td>   -0.093</td> <td>    0.013</td>\n",
       "</tr>\n",
       "<tr>\n",
       "  <th>history</th>          <td>    0.0012</td> <td>    0.000</td> <td>    3.161</td> <td> 0.002</td> <td>    0.000</td> <td>    0.002</td>\n",
       "</tr>\n",
       "</table>"
      ],
      "text/plain": [
       "<class 'statsmodels.iolib.table.SimpleTable'>"
      ]
     },
     "metadata": {},
     "output_type": "display_data"
    },
    {
     "name": "stdout",
     "output_type": "stream",
     "text": [
      "\n",
      "バイアスのあるデータの回帰\n"
     ]
    },
    {
     "data": {
      "text/html": [
       "<table class=\"simpletable\">\n",
       "<tr>\n",
       "      <td></td>         <th>coef</th>     <th>std err</th>      <th>t</th>      <th>P>|t|</th>  <th>[0.025</th>    <th>0.975]</th>  \n",
       "</tr>\n",
       "<tr>\n",
       "  <th>Intercept</th> <td>    0.3790</td> <td>    0.150</td> <td>    2.519</td> <td> 0.012</td> <td>    0.084</td> <td>    0.674</td>\n",
       "</tr>\n",
       "<tr>\n",
       "  <th>treatment</th> <td>    0.8637</td> <td>    0.182</td> <td>    4.750</td> <td> 0.000</td> <td>    0.507</td> <td>    1.220</td>\n",
       "</tr>\n",
       "<tr>\n",
       "  <th>history</th>   <td>    0.0013</td> <td>    0.000</td> <td>    3.622</td> <td> 0.000</td> <td>    0.001</td> <td>    0.002</td>\n",
       "</tr>\n",
       "</table>"
      ],
      "text/plain": [
       "<class 'statsmodels.iolib.table.SimpleTable'>"
      ]
     },
     "metadata": {},
     "output_type": "display_data"
    }
   ],
   "source": [
    "print(\"バイアスなしデータの回帰\")\n",
    "display(male_fitted.summary().tables[1])\n",
    "\n",
    "print(\"\\n共変量を追加した、バイアスのあるデータの回帰\")\n",
    "display(add_cov_biased_fitted.summary().tables[1])\n",
    "\n",
    "print(\"\\nバイアスのあるデータの回帰\")\n",
    "display(biased_fitted.summary().tables[1])"
   ]
  },
  {
   "cell_type": "markdown",
   "metadata": {},
   "source": [
    "### 脱落変数バイアス（OVB：Omitted Variable Bias）"
   ]
  },
  {
   "cell_type": "markdown",
   "metadata": {},
   "source": [
    "### DataFrame化"
   ]
  },
  {
   "cell_type": "code",
   "execution_count": 12,
   "metadata": {},
   "outputs": [],
   "source": [
    "# model_A 目的変数はspend、共変量Xのうちhistoryを含まない\n",
    "# model_B 目的変数はspend、共変量Xは全て含む\n",
    "# model_C 目的変数はhistory、treatmentも説明変数に加える、spendは説明変数に加えない\n",
    "\n",
    "model_ABC = {\n",
    "            'A':'spend ~ treatment + recency + channel',\n",
    "            'B':'spend ~ treatment + recency + channel + history',\n",
    "            'C':'history ~ treatment + recency + channel'\n",
    "            }"
   ]
  },
  {
   "cell_type": "code",
   "execution_count": 13,
   "metadata": {},
   "outputs": [],
   "source": [
    "# 空のデータフレームを作成\n",
    "ovb_df = pd.DataFrame()"
   ]
  },
  {
   "cell_type": "code",
   "execution_count": 14,
   "metadata": {},
   "outputs": [],
   "source": [
    "for i in model_ABC.keys():\n",
    "    model = sm.ols(formula=model_ABC[i], data=biased_data)\n",
    "    model_fitted = model.fit()\n",
    "    temp_df = pd.read_html(model_fitted.summary().tables[1].as_html(), header=0, index_col=0)[0]\n",
    "    temp_df[\"model\"] = f\"model_{i}\"\n",
    "    ovb_df = pd.concat([ovb_df, temp_df])"
   ]
  },
  {
   "cell_type": "code",
   "execution_count": 15,
   "metadata": {},
   "outputs": [
    {
     "data": {
      "text/html": [
       "<div>\n",
       "<style scoped>\n",
       "    .dataframe tbody tr th:only-of-type {\n",
       "        vertical-align: middle;\n",
       "    }\n",
       "\n",
       "    .dataframe tbody tr th {\n",
       "        vertical-align: top;\n",
       "    }\n",
       "\n",
       "    .dataframe thead th {\n",
       "        text-align: right;\n",
       "    }\n",
       "</style>\n",
       "<table border=\"1\" class=\"dataframe\">\n",
       "  <thead>\n",
       "    <tr style=\"text-align: right;\">\n",
       "      <th></th>\n",
       "      <th>coef</th>\n",
       "      <th>std err</th>\n",
       "      <th>t</th>\n",
       "      <th>P&gt;|t|</th>\n",
       "      <th>[0.025</th>\n",
       "      <th>0.975]</th>\n",
       "      <th>model</th>\n",
       "    </tr>\n",
       "  </thead>\n",
       "  <tbody>\n",
       "    <tr>\n",
       "      <th>Intercept</th>\n",
       "      <td>1.2104</td>\n",
       "      <td>0.323</td>\n",
       "      <td>3.753</td>\n",
       "      <td>0.000</td>\n",
       "      <td>0.578</td>\n",
       "      <td>1.843</td>\n",
       "      <td>model_A</td>\n",
       "    </tr>\n",
       "    <tr>\n",
       "      <th>channel[T.Phone]</th>\n",
       "      <td>-0.3399</td>\n",
       "      <td>0.292</td>\n",
       "      <td>-1.162</td>\n",
       "      <td>0.245</td>\n",
       "      <td>-0.913</td>\n",
       "      <td>0.233</td>\n",
       "      <td>model_A</td>\n",
       "    </tr>\n",
       "    <tr>\n",
       "      <th>channel[T.Web]</th>\n",
       "      <td>-0.0764</td>\n",
       "      <td>0.292</td>\n",
       "      <td>-0.262</td>\n",
       "      <td>0.794</td>\n",
       "      <td>-0.648</td>\n",
       "      <td>0.496</td>\n",
       "      <td>model_A</td>\n",
       "    </tr>\n",
       "    <tr>\n",
       "      <th>treatment</th>\n",
       "      <td>0.8450</td>\n",
       "      <td>0.186</td>\n",
       "      <td>4.550</td>\n",
       "      <td>0.000</td>\n",
       "      <td>0.481</td>\n",
       "      <td>1.209</td>\n",
       "      <td>model_A</td>\n",
       "    </tr>\n",
       "    <tr>\n",
       "      <th>recency</th>\n",
       "      <td>-0.0574</td>\n",
       "      <td>0.026</td>\n",
       "      <td>-2.173</td>\n",
       "      <td>0.030</td>\n",
       "      <td>-0.109</td>\n",
       "      <td>-0.006</td>\n",
       "      <td>model_A</td>\n",
       "    </tr>\n",
       "    <tr>\n",
       "      <th>Intercept</th>\n",
       "      <td>0.4991</td>\n",
       "      <td>0.393</td>\n",
       "      <td>1.269</td>\n",
       "      <td>0.204</td>\n",
       "      <td>-0.272</td>\n",
       "      <td>1.270</td>\n",
       "      <td>model_B</td>\n",
       "    </tr>\n",
       "    <tr>\n",
       "      <th>channel[T.Phone]</th>\n",
       "      <td>0.0359</td>\n",
       "      <td>0.316</td>\n",
       "      <td>0.114</td>\n",
       "      <td>0.910</td>\n",
       "      <td>-0.583</td>\n",
       "      <td>0.654</td>\n",
       "      <td>model_B</td>\n",
       "    </tr>\n",
       "    <tr>\n",
       "      <th>channel[T.Web]</th>\n",
       "      <td>0.2967</td>\n",
       "      <td>0.315</td>\n",
       "      <td>0.942</td>\n",
       "      <td>0.346</td>\n",
       "      <td>-0.320</td>\n",
       "      <td>0.914</td>\n",
       "      <td>model_B</td>\n",
       "    </tr>\n",
       "    <tr>\n",
       "      <th>treatment</th>\n",
       "      <td>0.8099</td>\n",
       "      <td>0.186</td>\n",
       "      <td>4.353</td>\n",
       "      <td>0.000</td>\n",
       "      <td>0.445</td>\n",
       "      <td>1.175</td>\n",
       "      <td>model_B</td>\n",
       "    </tr>\n",
       "    <tr>\n",
       "      <th>recency</th>\n",
       "      <td>-0.0399</td>\n",
       "      <td>0.027</td>\n",
       "      <td>-1.476</td>\n",
       "      <td>0.140</td>\n",
       "      <td>-0.093</td>\n",
       "      <td>0.013</td>\n",
       "      <td>model_B</td>\n",
       "    </tr>\n",
       "    <tr>\n",
       "      <th>history</th>\n",
       "      <td>0.0012</td>\n",
       "      <td>0.000</td>\n",
       "      <td>3.161</td>\n",
       "      <td>0.002</td>\n",
       "      <td>0.000</td>\n",
       "      <td>0.002</td>\n",
       "      <td>model_B</td>\n",
       "    </tr>\n",
       "    <tr>\n",
       "      <th>Intercept</th>\n",
       "      <td>575.4763</td>\n",
       "      <td>4.616</td>\n",
       "      <td>124.676</td>\n",
       "      <td>0.000</td>\n",
       "      <td>566.429</td>\n",
       "      <td>584.523</td>\n",
       "      <td>model_C</td>\n",
       "    </tr>\n",
       "    <tr>\n",
       "      <th>channel[T.Phone]</th>\n",
       "      <td>-303.9863</td>\n",
       "      <td>4.185</td>\n",
       "      <td>-72.637</td>\n",
       "      <td>0.000</td>\n",
       "      <td>-312.189</td>\n",
       "      <td>-295.784</td>\n",
       "      <td>model_C</td>\n",
       "    </tr>\n",
       "    <tr>\n",
       "      <th>channel[T.Web]</th>\n",
       "      <td>-301.8030</td>\n",
       "      <td>4.177</td>\n",
       "      <td>-72.250</td>\n",
       "      <td>0.000</td>\n",
       "      <td>-309.991</td>\n",
       "      <td>-293.616</td>\n",
       "      <td>model_C</td>\n",
       "    </tr>\n",
       "    <tr>\n",
       "      <th>treatment</th>\n",
       "      <td>28.4521</td>\n",
       "      <td>2.658</td>\n",
       "      <td>10.703</td>\n",
       "      <td>0.000</td>\n",
       "      <td>23.242</td>\n",
       "      <td>33.663</td>\n",
       "      <td>model_C</td>\n",
       "    </tr>\n",
       "    <tr>\n",
       "      <th>recency</th>\n",
       "      <td>-14.2291</td>\n",
       "      <td>0.378</td>\n",
       "      <td>-37.606</td>\n",
       "      <td>0.000</td>\n",
       "      <td>-14.971</td>\n",
       "      <td>-13.488</td>\n",
       "      <td>model_C</td>\n",
       "    </tr>\n",
       "  </tbody>\n",
       "</table>\n",
       "</div>"
      ],
      "text/plain": [
       "                      coef  std err        t  P>|t|   [0.025   0.975]    model\n",
       "Intercept           1.2104    0.323    3.753  0.000    0.578    1.843  model_A\n",
       "channel[T.Phone]   -0.3399    0.292   -1.162  0.245   -0.913    0.233  model_A\n",
       "channel[T.Web]     -0.0764    0.292   -0.262  0.794   -0.648    0.496  model_A\n",
       "treatment           0.8450    0.186    4.550  0.000    0.481    1.209  model_A\n",
       "recency            -0.0574    0.026   -2.173  0.030   -0.109   -0.006  model_A\n",
       "Intercept           0.4991    0.393    1.269  0.204   -0.272    1.270  model_B\n",
       "channel[T.Phone]    0.0359    0.316    0.114  0.910   -0.583    0.654  model_B\n",
       "channel[T.Web]      0.2967    0.315    0.942  0.346   -0.320    0.914  model_B\n",
       "treatment           0.8099    0.186    4.353  0.000    0.445    1.175  model_B\n",
       "recency            -0.0399    0.027   -1.476  0.140   -0.093    0.013  model_B\n",
       "history             0.0012    0.000    3.161  0.002    0.000    0.002  model_B\n",
       "Intercept         575.4763    4.616  124.676  0.000  566.429  584.523  model_C\n",
       "channel[T.Phone] -303.9863    4.185  -72.637  0.000 -312.189 -295.784  model_C\n",
       "channel[T.Web]   -301.8030    4.177  -72.250  0.000 -309.991 -293.616  model_C\n",
       "treatment          28.4521    2.658   10.703  0.000   23.242   33.663  model_C\n",
       "recency           -14.2291    0.378  -37.606  0.000  -14.971  -13.488  model_C"
      ]
     },
     "execution_count": 15,
     "metadata": {},
     "output_type": "execute_result"
    }
   ],
   "source": [
    "ovb_df"
   ]
  },
  {
   "cell_type": "code",
   "execution_count": 16,
   "metadata": {},
   "outputs": [
    {
     "data": {
      "text/plain": [
       "treatment     0.8450\n",
       "treatment     0.8099\n",
       "treatment    28.4521\n",
       "Name: coef, dtype: float64"
      ]
     },
     "execution_count": 16,
     "metadata": {},
     "output_type": "execute_result"
    }
   ],
   "source": [
    "# モデルA、B、Cのtreatmentのパラメーターを抽出\n",
    "treatment_coef = ovb_df.loc[\"treatment\"][\"coef\"]\n",
    "treatment_coef"
   ]
  },
  {
   "cell_type": "code",
   "execution_count": 17,
   "metadata": {},
   "outputs": [
    {
     "data": {
      "text/plain": [
       "0.0012"
      ]
     },
     "execution_count": 17,
     "metadata": {},
     "output_type": "execute_result"
    }
   ],
   "source": [
    "# モデルB（目的変数はtreatment、すべての共変量を含む）からhistoryのパラメーターを抜き出す\n",
    "history_coef = ovb_df[ovb_df[\"model\"]==\"model_B\"].loc[\"history\"][\"coef\"]\n",
    "history_coef"
   ]
  },
  {
   "cell_type": "code",
   "execution_count": 18,
   "metadata": {},
   "outputs": [
    {
     "data": {
      "text/plain": [
       "0.034142519999999996"
      ]
     },
     "execution_count": 18,
     "metadata": {},
     "output_type": "execute_result"
    }
   ],
   "source": [
    "# OVBの確認\n",
    "# model B の history パラメータ × model C のtreatmentパラメータ\n",
    "history_coef * treatment_coef[2]"
   ]
  },
  {
   "cell_type": "code",
   "execution_count": 19,
   "metadata": {},
   "outputs": [
    {
     "data": {
      "text/plain": [
       "0.03510000000000002"
      ]
     },
     "execution_count": 19,
     "metadata": {},
     "output_type": "execute_result"
    }
   ],
   "source": [
    "# coef_gap\n",
    "# model A の treatment パラメータ - model B の treament パラメータ\n",
    "treatment_coef[0] - treatment_coef[1]"
   ]
  },
  {
   "cell_type": "code",
   "execution_count": 20,
   "metadata": {},
   "outputs": [],
   "source": [
    "# coef_gap と OVB はおおむね一致\n",
    "# 共変量 historyを追加したことで、OVBが消失していることがわかる"
   ]
  },
  {
   "cell_type": "markdown",
   "metadata": {},
   "source": [
    "### CIA (Conditional Independence Assumption) OVBがすべてゼロになる状態"
   ]
  },
  {
   "cell_type": "code",
   "execution_count": 21,
   "metadata": {},
   "outputs": [],
   "source": [
    "# 問題点\n",
    "# バイアスを評価できない\n",
    "# 必要な共変量がデータにない"
   ]
  },
  {
   "cell_type": "markdown",
   "metadata": {},
   "source": [
    "### 入れてはいけない変数"
   ]
  },
  {
   "cell_type": "code",
   "execution_count": 22,
   "metadata": {},
   "outputs": [],
   "source": [
    "# visit は 購買に影響がある\n",
    "# visit は メールに配信にも影響を受ける\n",
    "# このような介入の影響を受ける辺ううを入れてはならない"
   ]
  },
  {
   "cell_type": "code",
   "execution_count": 23,
   "metadata": {},
   "outputs": [
    {
     "data": {
      "text/html": [
       "<table class=\"simpletable\">\n",
       "<tr>\n",
       "          <td></td>            <th>coef</th>     <th>std err</th>      <th>t</th>      <th>P>|t|</th>  <th>[0.025</th>    <th>0.975]</th>  \n",
       "</tr>\n",
       "<tr>\n",
       "  <th>Intercept</th>        <td>    0.7104</td> <td>    0.011</td> <td>   63.991</td> <td> 0.000</td> <td>    0.689</td> <td>    0.732</td>\n",
       "</tr>\n",
       "<tr>\n",
       "  <th>channel[T.Phone]</th> <td>   -0.0633</td> <td>    0.009</td> <td>   -6.713</td> <td> 0.000</td> <td>   -0.082</td> <td>   -0.045</td>\n",
       "</tr>\n",
       "<tr>\n",
       "  <th>channel[T.Web]</th>   <td>   -0.0642</td> <td>    0.009</td> <td>   -6.828</td> <td> 0.000</td> <td>   -0.083</td> <td>   -0.046</td>\n",
       "</tr>\n",
       "<tr>\n",
       "  <th>visit</th>            <td>    0.1520</td> <td>    0.008</td> <td>   19.954</td> <td> 0.000</td> <td>    0.137</td> <td>    0.167</td>\n",
       "</tr>\n",
       "<tr>\n",
       "  <th>recency</th>          <td>   -0.0289</td> <td>    0.001</td> <td>  -36.447</td> <td> 0.000</td> <td>   -0.030</td> <td>   -0.027</td>\n",
       "</tr>\n",
       "<tr>\n",
       "  <th>history</th>          <td>    0.0001</td> <td> 1.17e-05</td> <td>    9.680</td> <td> 0.000</td> <td> 9.02e-05</td> <td>    0.000</td>\n",
       "</tr>\n",
       "</table>"
      ],
      "text/plain": [
       "<class 'statsmodels.iolib.table.SimpleTable'>"
      ]
     },
     "execution_count": 23,
     "metadata": {},
     "output_type": "execute_result"
    }
   ],
   "source": [
    "model = sm.ols(formula='treatment ~ visit + channel + recency + history', data=biased_data)\n",
    "visit_fitted = model.fit()\n",
    "visit_fitted.summary().tables[1]"
   ]
  },
  {
   "cell_type": "code",
   "execution_count": 24,
   "metadata": {},
   "outputs": [],
   "source": [
    "# visit は 相関がそれなりに大きいため、説明変数に加えたくなる"
   ]
  },
  {
   "cell_type": "code",
   "execution_count": 25,
   "metadata": {},
   "outputs": [
    {
     "data": {
      "text/html": [
       "<table class=\"simpletable\">\n",
       "<tr>\n",
       "          <td></td>            <th>coef</th>     <th>std err</th>      <th>t</th>      <th>P>|t|</th>  <th>[0.025</th>    <th>0.975]</th>  \n",
       "</tr>\n",
       "<tr>\n",
       "  <th>Intercept</th>        <td>   -0.4281</td> <td>    0.389</td> <td>   -1.101</td> <td> 0.271</td> <td>   -1.190</td> <td>    0.334</td>\n",
       "</tr>\n",
       "<tr>\n",
       "  <th>channel[T.Phone]</th> <td>    0.1091</td> <td>    0.311</td> <td>    0.351</td> <td> 0.726</td> <td>   -0.501</td> <td>    0.719</td>\n",
       "</tr>\n",
       "<tr>\n",
       "  <th>channel[T.Web]</th>   <td>    0.1516</td> <td>    0.310</td> <td>    0.489</td> <td> 0.625</td> <td>   -0.457</td> <td>    0.760</td>\n",
       "</tr>\n",
       "<tr>\n",
       "  <th>treatment</th>        <td>    0.1849</td> <td>    0.185</td> <td>    1.002</td> <td> 0.316</td> <td>   -0.177</td> <td>    0.547</td>\n",
       "</tr>\n",
       "<tr>\n",
       "  <th>recency</th>          <td>    0.0102</td> <td>    0.027</td> <td>    0.381</td> <td> 0.703</td> <td>   -0.042</td> <td>    0.062</td>\n",
       "</tr>\n",
       "<tr>\n",
       "  <th>history</th>          <td>    0.0007</td> <td>    0.000</td> <td>    1.758</td> <td> 0.079</td> <td> -7.8e-05</td> <td>    0.001</td>\n",
       "</tr>\n",
       "<tr>\n",
       "  <th>visit</th>            <td>    7.7126</td> <td>    0.253</td> <td>   30.511</td> <td> 0.000</td> <td>    7.217</td> <td>    8.208</td>\n",
       "</tr>\n",
       "</table>"
      ],
      "text/plain": [
       "<class 'statsmodels.iolib.table.SimpleTable'>"
      ]
     },
     "metadata": {},
     "output_type": "display_data"
    },
    {
     "name": "stdout",
     "output_type": "stream",
     "text": [
      "\n",
      "【比較】visitを含まない回帰\n"
     ]
    },
    {
     "data": {
      "text/html": [
       "<table class=\"simpletable\">\n",
       "<tr>\n",
       "          <td></td>            <th>coef</th>     <th>std err</th>      <th>t</th>      <th>P>|t|</th>  <th>[0.025</th>    <th>0.975]</th>  \n",
       "</tr>\n",
       "<tr>\n",
       "  <th>Intercept</th>        <td>    0.4991</td> <td>    0.393</td> <td>    1.269</td> <td> 0.204</td> <td>   -0.272</td> <td>    1.270</td>\n",
       "</tr>\n",
       "<tr>\n",
       "  <th>channel[T.Phone]</th> <td>    0.0359</td> <td>    0.316</td> <td>    0.114</td> <td> 0.910</td> <td>   -0.583</td> <td>    0.654</td>\n",
       "</tr>\n",
       "<tr>\n",
       "  <th>channel[T.Web]</th>   <td>    0.2967</td> <td>    0.315</td> <td>    0.942</td> <td> 0.346</td> <td>   -0.320</td> <td>    0.914</td>\n",
       "</tr>\n",
       "<tr>\n",
       "  <th>treatment</th>        <td>    0.8099</td> <td>    0.186</td> <td>    4.353</td> <td> 0.000</td> <td>    0.445</td> <td>    1.175</td>\n",
       "</tr>\n",
       "<tr>\n",
       "  <th>recency</th>          <td>   -0.0399</td> <td>    0.027</td> <td>   -1.476</td> <td> 0.140</td> <td>   -0.093</td> <td>    0.013</td>\n",
       "</tr>\n",
       "<tr>\n",
       "  <th>history</th>          <td>    0.0012</td> <td>    0.000</td> <td>    3.161</td> <td> 0.002</td> <td>    0.000</td> <td>    0.002</td>\n",
       "</tr>\n",
       "</table>"
      ],
      "text/plain": [
       "<class 'statsmodels.iolib.table.SimpleTable'>"
      ]
     },
     "metadata": {},
     "output_type": "display_data"
    }
   ],
   "source": [
    "model = sm.ols(formula='spend ~ treatment + channel + recency + history + visit', data=biased_data)\n",
    "visit_fitted = model.fit()\n",
    "display(visit_fitted.summary().tables[1])\n",
    "\n",
    "print(\"\\n【比較】visitを含まない回帰\")\n",
    "display(add_cov_biased_fitted.summary().tables[1])\n",
    "\n",
    "# visit を加えることで、treatmentの効果が 0.8099 から 0.1849 に下落"
   ]
  },
  {
   "cell_type": "code",
   "execution_count": null,
   "metadata": {},
   "outputs": [],
   "source": []
  }
 ],
 "metadata": {
  "kernelspec": {
   "display_name": "Python 3",
   "language": "python",
   "name": "python3"
  },
  "language_info": {
   "codemirror_mode": {
    "name": "ipython",
    "version": 3
   },
   "file_extension": ".py",
   "mimetype": "text/x-python",
   "name": "python",
   "nbconvert_exporter": "python",
   "pygments_lexer": "ipython3",
   "version": "3.7.7"
  }
 },
 "nbformat": 4,
 "nbformat_minor": 4
}
